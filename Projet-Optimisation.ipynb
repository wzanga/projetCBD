{
 "cells": [
  {
   "cell_type": "markdown",
   "metadata": {},
   "source": [
    "# Développement d'un algorithme en Spark"
   ]
  },
  {
   "cell_type": "markdown",
   "metadata": {},
   "source": [
    "# Objectif du Notebook\n",
    "Il s'agit de développer en Spark une méthode de gradient, dans le but de résoudre un problème de filtrage collaboratif, et de la comparer avec une méthode de la librairie MLIB. Ce Notebook a pour but le développement et la validation de l'approche, avant intégration et exploitation dans le cadre de l'infrastructure développée dans le projet. Pour information, de nombreuses versions de ce problème existent sur le web."
   ]
  },
  {
   "cell_type": "markdown",
   "metadata": {},
   "source": [
    "# Position du problème\n",
    "Nous avons à notre disposition un RDD \"ratings\" du type (userID, movieID, rating). Les données sont fournies par le fichier `ratings.dat`, stockées  au format ci-joint :\n",
    "```\n",
    "UserID::MovieID::Rating::Timestamp\n",
    "```\n",
    "\n",
    "Ce RDD peut être stocké dans une matrice $R$ où l'on trouve \"rating\" à l'intersection de la ligne \"userID\" et de la colonne \"movieID\".\n",
    "Si la matrice $R$ est de taille $m \\times  n$, nous cherchons $P \\in R^{m,k}$ et $Q \\in R^{n,k}$ telles que $R \\approx \\hat{R} = PQ^T$.\n",
    "Pour cela on considère le problème\n",
    "$$ \\min_{P,Q} \\sum_{i,j : r_{ij} \\text{existe}}  \\ell_{i,j}(R,P,Q), $$\n",
    "où\n",
    "$$  \\ell_{i,j}(R,P,Q)= \\left(r_{ij} - q_{j}^{\\top}p_{i}\\right)^2 + \\lambda(|| p_{i} ||^{2}_2 + || q_{j} ||^2_2 )  $$ et $(p_i)_{1\\leq i\\leq m}$ et $(q_j)_{1\\leq j\\leq n}$ sont les lignes des matrices $P$ et $Q$ respectivement. Le paramètre $\\lambda\\geq 0$ est un paramètre de régularisation.\n",
    "\n",
    "Le problème que nous résolvons ici est un problème dit de \"filtrage collaboratif\", qui permet d'apporter une solution possible du  problème Netflix.\n"
   ]
  },
  {
   "cell_type": "code",
   "execution_count": 1,
   "metadata": {},
   "outputs": [],
   "source": [
    "# Librairies\n",
    "import numpy as np\n",
    "from scipy import sparse\n",
    "\n",
    "# Environnement Spark \n",
    "from pyspark import SparkContext, SparkConf\n",
    "\n",
    "# A modifier/commenter selon votre configuration.\n",
    "import os\n",
    "#os.environ['PYSPARK_PYTHON'] = '~/anaconda3/bin/python/3.7'\n",
    "#os.environ['PYSPARK_PYTHON'] = '/usr/local/bin/python3.7'\n",
    "\n",
    "conf = SparkConf()\n",
    "conf.setMaster(\"local[*]\")\n",
    "conf.setAppName(\"Matrix Factorization\")\n",
    "\n",
    "sc = SparkContext(conf = conf)"
   ]
  },
  {
   "cell_type": "markdown",
   "metadata": {},
   "source": [
    "#### Création du RDD et premières statistiques sur le jeu de données."
   ]
  },
  {
   "cell_type": "code",
   "execution_count": 2,
   "metadata": {},
   "outputs": [
    {
     "name": "stdout",
     "output_type": "stream",
     "text": [
      "We have 1000209 ratings from 6040 users on 3706 movies.\n",
      "\n",
      "We have 6040 users, 3952 movies and the rating matrix has 4.190221 percent of non-zero value.\n",
      "\n"
     ]
    }
   ],
   "source": [
    "# Répertoire contenant le jeu de données\n",
    "movieLensHomeDir=\"data/\"\n",
    "\n",
    "# ratings est un RDD du type (userID, movieID, rating)\n",
    "def parseRating(line):\n",
    "    fields = line.split('::')\n",
    "    return int(fields[0]), int(fields[1]), float(fields[2])\n",
    "\n",
    "ratingsRDD = sc.textFile(movieLensHomeDir + \"ratings.dat\").map(parseRating).setName(\"ratings\").cache()\n",
    "\n",
    "# Calcul du nombre de ratings\n",
    "numRatings = ratingsRDD.count()\n",
    "# Calcul du nombre d'utilisateurs distincts\n",
    "numUsers = ratingsRDD.map(lambda r: r[0]).distinct().count()\n",
    "# Calcul du nombre de films distincts\n",
    "numMovies = ratingsRDD.map(lambda r: r[1]).distinct().count()\n",
    "print(\"We have %d ratings from %d users on %d movies.\\n\" % (numRatings, numUsers, numMovies))\n",
    "\n",
    "# Dimensions de la matrice R\n",
    "M = ratingsRDD.map(lambda r: r[0]).max()\n",
    "N = ratingsRDD.map(lambda r: r[1]).max()\n",
    "matrixSparsity = float(numRatings)/float(M*N)\n",
    "print(\"We have %d users, %d movies and the rating matrix has %f percent of non-zero value.\\n\" % (M, N, 100*matrixSparsity))"
   ]
  },
  {
   "cell_type": "markdown",
   "metadata": {},
   "source": [
    "Nous allons utiliser la routine ALS.train() de la librairie  [MLLib](http://spark.apache.org/docs/latest/ml-guide.html) et en évaluer la performance par un calcul de \" Mean Squared Error\" du  rating de prédiction.\n",
    "\n",
    "__Question 1__\n",
    "\n",
    "> Commenter les lignes de code suivantes en vous inspirant du code python http://spark.apache.org/docs/latest/mllib-collaborative-filtering.html#collaborative-filtering\n",
    "\n"
   ]
  },
  {
   "cell_type": "code",
   "execution_count": 3,
   "metadata": {},
   "outputs": [
    {
     "name": "stdout",
     "output_type": "stream",
     "text": [
      "Mean Squared Error = 0.58420740882\n"
     ]
    }
   ],
   "source": [
    "from pyspark.mllib.recommendation import ALS, MatrixFactorizationModel, Rating\n",
    "\n",
    "# Construction du modèle de recommendations depuis l'approche \"Alternating Least Squares\"\n",
    "rank = 10\n",
    "numIterations = 10\n",
    "\n",
    "# Paramètres de la méthode Alternating Least Squares (ALS)\n",
    "# ratings – RDD de Rating ou tuple (userID, productID, rating).\n",
    "# rank – Rang de la matrice modèle.\n",
    "# iterations – Nombre d'itérations. (default: 5)\n",
    "# lambda_ – Paramètre de régularisation. (default: 0.01)\n",
    "model = ALS.train(ratingsRDD, rank, iterations=numIterations, lambda_=0.02)\n",
    "\n",
    "# Evaluation du modèle sur le jeu de données complet\n",
    "testdata = ratingsRDD.map(lambda p: (p[0], p[1]))\n",
    "predictions = model.predictAll(testdata).map(lambda r: ((r[0], r[1]), r[2]))\n",
    "ratesAndPreds = ratingsRDD.map(lambda r: ((r[0], r[1]), r[2])).join(predictions)\n",
    "MSE = ratesAndPreds.map(lambda r: (r[1][0] - r[1][1])**2).mean()\n",
    "print(\"Mean Squared Error = \" + str(MSE))"
   ]
  },
  {
   "cell_type": "code",
   "execution_count": 4,
   "metadata": {},
   "outputs": [],
   "source": [
    "# Dans une situation comme celle-ci, il est difficile pour tous les utilisateurs de donner leurs avis sur tous les\n",
    "# films, ne serait-ce que par le fait qu'ils ne les aient pas tous vus. L'idée est donc de chercher à estimer les\n",
    "# avis manquant à partir des avis collectés.\n",
    "#\n",
    "# Le cas présent, la matrice des \"ratings\", n'est pas obtenu par évualation du nombre de vues, clicks, etc... mais \n",
    "# directement avec les avis des utilisateurs. Par conséquent, cette matrice est explicite. \n",
    "#\n",
    "# Le code précedent estime alors les avis manquant avec un  \n",
    "# utilisant l'erreur quadratique moyenne ou Mean Squared Error"
   ]
  },
  {
   "cell_type": "markdown",
   "metadata": {},
   "source": [
    "#  Algorithmes de descente de gradient\n",
    "\n",
    "Le but de cette section est  \n",
    "1. de calculer le gradient de la fonction,\n",
    "2. d'implémenter une méthode de gradient,\n",
    "3. de mesurer la précision de cette méthode\n",
    "\n",
    "__Question 2__\n",
    "\n",
    "> Séparer le jeu de données en un jeu d'apprentissage (70%) et un jeu de test, en utilisant la fonction randomsplit ( http://spark.apache.org/docs/2.0.0/api/python/pyspark.html )\n",
    "\n",
    "> Compléter la routine ci-dessous qui retourne le \"rating\" prédit. Créer un RDD contenant `(i,j,true rating,predicted rating)`. \n",
    "\n",
    "> Compléter la routine qui calcule le Mean Square Error (MSE) sur le jeu de données.\n",
    "\n",
    "> Tester ensuite la routine de MSE en vous donnant les matrices $P$ et $Q$ aléatoires (utiliser np.random.rand(M,K)) et calculer quelques \"ratings\" prédits. \n",
    "\n"
   ]
  },
  {
   "cell_type": "code",
   "execution_count": 5,
   "metadata": {},
   "outputs": [
    {
     "name": "stdout",
     "output_type": "stream",
     "text": [
      "('The training set ratio : ', 0.7001006789580978)\n"
     ]
    }
   ],
   "source": [
    "# Séparation du jeu de données en un jeu d'apprentissage et un jeu de test\n",
    "# Taille du jeu d'apprentissage (en %) \n",
    "learningWeight = 0.7\n",
    "\n",
    "# Création des RDD \"apprentissage\" et \"test\" depuis la fonction randomsplit\n",
    "trainRDD, testRDD = ratingsRDD.randomSplit([learningWeight,1-learningWeight])\n",
    "numTrain = trainRDD.count()\n",
    "numTest = testRDD.count()\n",
    "print(\"The training set ratio : \",numTrain*1.0 /(numTrain + numTest))\n",
    "\n",
    "# Calcul du rating préduit.\n",
    "def predictedRating(x, P, Q):\n",
    "    \"\"\" \n",
    "    This function computes predicted rating\n",
    "    Args:\n",
    "        x: tuple (UserID, MovieID, Rating)\n",
    "        P: user's features matrix (M by K)\n",
    "        Q: item's features matrix (N by K)\n",
    "    Returns:\n",
    "        predicted rating: l \n",
    "    \"\"\"\n",
    "    ##### TO DO\n",
    "    return( Q[x[1]-1,:].dot(P[x[0]-1,:]))\n",
    "\n",
    "# Calcul de l'erreur MSE \n",
    "def computeMSE(rdd, P, Q):\n",
    "    \"\"\" \n",
    "    This function computes Mean Square Error (MSE)\n",
    "    Args:\n",
    "        rdd: RDD(UserID, MovieID, Rating)\n",
    "        P: user's features matrix (M by K)\n",
    "        Q: item's features matrix (N by K)\n",
    "    Returns:\n",
    "        mse: mean square error \n",
    "    \"\"\" \n",
    "    ##### TO DO\n",
    "    mse = rdd.map(lambda r: (r[2]-predictedRating(r, P, Q))**2).mean()\n",
    "    return(mse)"
   ]
  },
  {
   "cell_type": "code",
   "execution_count": 6,
   "metadata": {},
   "outputs": [
    {
     "name": "stdout",
     "output_type": "stream",
     "text": [
      "('Size of the training dataset:', 700247)\n",
      "('Size of the testing dataset:', 299962)\n",
      "4.189462607466959\n"
     ]
    }
   ],
   "source": [
    "# Tailles des jeux de données d'apprentissage et de tests.\n",
    "print(\"Size of the training dataset:\", trainRDD.count())\n",
    "print(\"Size of the testing dataset:\", testRDD.count())\n",
    "\n",
    "\n",
    "# Création de matrices aléatoires de dimension (M,K) et (N,K)\n",
    "K = 20 \n",
    "P = np.random.rand(M,K)\n",
    "Q = np.random.rand(N,K)\n",
    "\n",
    "#create the RDD\n",
    "rdd = trainRDD.map(lambda x : (x[0],x[1],x[2],predictedRating(x,P,Q)))\n",
    "\n",
    "# Calcul et affichage de l'erreur MSE pour ces matrices aléatoires\n",
    "print computeMSE(trainRDD, P, Q)\n",
    "\n",
    "# Affichage de quelques ratings prédits depuis ces matrices"
   ]
  },
  {
   "cell_type": "markdown",
   "metadata": {
    "collapsed": true
   },
   "source": [
    "__Question 3__\n",
    "\n",
    "> Donner la formule des dérivées des fonctions $\\ell_{i,j}$ selon $p_t$ et $q_s$ avec $1\\leq t\\leq m$ et $1\\leq s\\leq n$.\n",
    "\n",
    "> Commenter et compléter l'implantation de l'algorithme de gradient sur l'ensemble d'apprentissage. Prendre un pas égal à $\\gamma=0.001$ et arrêter sur un nombre maximum d'itérations. \n",
    "\n",
    "> Commenter les tracés de convergence et des indicateurs de qualité de la prévision en fonction de la dimension latente (rang de $P$ et $Q$)."
   ]
  },
  {
   "cell_type": "code",
   "execution_count": 7,
   "metadata": {},
   "outputs": [],
   "source": [
    "# Algorithme de descente de gradient pour la factorisation de matrices\n",
    "def GD(trainRDD, K=10, MAXITER=50, GAMMA=0.001, LAMBDA=0.05):\n",
    "    # Construction de la matrice R (creuse)\n",
    "    row=[]\n",
    "    col=[]\n",
    "    data=[]\n",
    "    for part in trainRDD.collect():\n",
    "        row.append(part[0]-1)\n",
    "        col.append(part[1]-1)\n",
    "        data.append(part[2])\n",
    "    R=sparse.csr_matrix((data, (row, col)))\n",
    "    \n",
    "    # Initialisation aléatoire des matrices P et Q\n",
    "    M,N = R.shape\n",
    "    P = np.random.rand(M,K)\n",
    "    Q = np.random.rand(N,K)\n",
    "    \n",
    "    # Calcul de l'erreur MSE initiale\n",
    "    mse=[]\n",
    "    mse_tmp = computeMSE(trainRDD, P, Q)\n",
    "    mse.append([0, mse_tmp])\n",
    "    print(\"epoch: \", str(0), \" - MSE: \", str(mse_tmp))\n",
    "    \n",
    "    # Boucle\n",
    "    nonzero = R.nonzero()\n",
    "    nbNonZero = R.nonzero()[0].size\n",
    "    I,J = nonzero[0], nonzero[1]\n",
    "    for epoch in range(MAXITER):\n",
    "        print('epoch:', epoch)\n",
    "        for i,j in zip(I,J):\n",
    "            # Mise à jour de P[i,:] et Q[j,:] par descente de gradient à pas fixe\n",
    "           #### TO DO\n",
    "            coef = -(R[i,j] - Q[j,:].dot(P[i,:]))\n",
    "            dP = 2*( coef*Q[j,:] + LAMBDA*P[i,:])\n",
    "            dQ = 2*( coef*P[i,:] + LAMBDA*Q[j,:])\n",
    "            P[i,:] = P[i,:] - GAMMA * dP\n",
    "            Q[j,:] = Q[j,:] - GAMMA * dQ\n",
    "        # Calcul de l'erreur MSE courante, et sauvegarde dans le tableau mse \n",
    "        #### TO DO\n",
    "        mse.append([epoch,computeMSE(trainRDD, P, Q)])\n",
    "    return(P, Q, mse)"
   ]
  },
  {
   "cell_type": "code",
   "execution_count": 36,
   "metadata": {},
   "outputs": [
    {
     "name": "stdout",
     "output_type": "stream",
     "text": [
      "('epoch: ', '0', ' - MSE: ', '2.9531215846702987')\n",
      "('epoch:', 0)\n",
      "('epoch:', 1)\n",
      "('epoch:', 2)\n",
      "('epoch:', 3)\n",
      "('epoch:', 4)\n",
      "('epoch:', 5)\n",
      "('epoch:', 6)\n",
      "('epoch:', 7)\n",
      "('epoch:', 8)\n",
      "('epoch:', 9)\n",
      "('epoch:', 10)\n",
      "('epoch:', 11)\n",
      "('epoch:', 12)\n",
      "('epoch:', 13)\n",
      "('epoch:', 14)\n",
      "('epoch:', 15)\n",
      "('epoch:', 16)\n",
      "('epoch:', 17)\n",
      "('epoch:', 18)\n",
      "('epoch:', 19)\n"
     ]
    }
   ],
   "source": [
    "# Calcul de P, Q et de la mse\n",
    "P,Q,mse = GD(trainRDD, K=10, MAXITER=20, GAMMA=0.001, LAMBDA=0.05)"
   ]
  },
  {
   "cell_type": "code",
   "execution_count": 37,
   "metadata": {},
   "outputs": [
    {
     "data": {
      "text/plain": [
       "Text(0.5,1,\"Erreur MSE en fonction de l'epoque\")"
      ]
     },
     "execution_count": 37,
     "metadata": {},
     "output_type": "execute_result"
    },
    {
     "data": {
      "image/png": "[encoded data removed]",
      "text/plain": [
       "<Figure size 432x288 with 1 Axes>"
      ]
     },
     "metadata": {
      "needs_background": "light"
     },
     "output_type": "display_data"
    }
   ],
   "source": [
    "import matplotlib.pyplot as plt \n",
    "\n",
    "# Affichage de l'erreur MSE\n",
    "#### TO DO\n",
    "epoch = [ x[0] for x in mse]\n",
    "mse_value = [ x[1] for x in mse]\n",
    "plt.plot(epoch,mse_value)\n",
    "plt.xlabel('Epoch')\n",
    "plt.ylabel('MSE')\n",
    "plt.title(\"Erreur MSE en fonction de l'epoque\")"
   ]
  },
  {
   "cell_type": "markdown",
   "metadata": {},
   "source": [
    "__Question 4__\n",
    "\n",
    "> Calculer les ratings prédits par la solution de la méthode du gradient dans un RDD\n",
    "\n",
    "> Comparer sur le jeu de test les valeurs prédites aux ratings sur 5 échantillons aléatoires."
   ]
  },
  {
   "cell_type": "code",
   "execution_count": 38,
   "metadata": {},
   "outputs": [],
   "source": [
    "# Calcul et affichage des ratings prédits\n",
    "#### TO DO\n",
    "predRDD = testRDD.map(lambda r : (r[0],r[1],r[2],predictedRating(r, P, Q)))\n",
    "\n",
    "#create two matrices with original ratings and new ones\n",
    "#row=[]\n",
    "#col=[]\n",
    "#data1=[]\n",
    "#data2=[]\n",
    "#for part in predRDD.collect():\n",
    "#    row.append(part[0]-1)\n",
    "#    col.append(part[1]-1)\n",
    "#    data1.append(part[2])\n",
    "#    data2.append(part[3])\n",
    "#R1=sparse.csr_matrix((data1, (row, col)))\n",
    "#R2=sparse.csr_matrix((data2, (row, col)))"
   ]
  },
  {
   "cell_type": "markdown",
   "metadata": {},
   "source": []
  },
  {
   "cell_type": "code",
   "execution_count": 39,
   "metadata": {},
   "outputs": [
    {
     "data": {
      "text/plain": [
       "[(1, 1035, 5.0, 4.2068369792144376),\n",
       " (2, 2028, 4.0, 4.041558794795243),\n",
       " (2, 1372, 3.0, 3.3302714521936014),\n",
       " (2, 356, 5.0, 3.818356123478088),\n",
       " (3, 1270, 3.0, 3.817446784727618)]"
      ]
     },
     "execution_count": 39,
     "metadata": {},
     "output_type": "execute_result"
    }
   ],
   "source": [
    "# Calcul et affichage des ratings prédits\n",
    "predRDD.sample(False, 0.1,).take(5)"
   ]
  },
  {
   "cell_type": "code",
   "execution_count": null,
   "metadata": {},
   "outputs": [],
   "source": [
    "# L'approximations R = Q*P donne des valeurs assez inégaux, selon le nombre d'itérations de la descente de gradient\n",
    "# Plus on on itère, plus le résultat Q*P est proche de R"
   ]
  }
 ],
 "metadata": {
  "kernelspec": {
   "display_name": "Python 2",
   "language": "python",
   "name": "python2"
  },
  "language_info": {
   "codemirror_mode": {
    "name": "ipython",
    "version": 2
   },
   "file_extension": ".py",
   "mimetype": "text/x-python",
   "name": "python",
   "nbconvert_exporter": "python",
   "pygments_lexer": "ipython2",
   "version": "2.7.15"
  }
 },
 "nbformat": 4,
 "nbformat_minor": 1
}
